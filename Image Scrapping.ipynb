{
 "cells": [
  {
   "cell_type": "code",
   "execution_count": 1,
   "metadata": {},
   "outputs": [],
   "source": [
    "import requests\n",
    "from bs4 import BeautifulSoup\n",
    "import os\n",
    "import cv2"
   ]
  },
  {
   "cell_type": "code",
   "execution_count": 7,
   "metadata": {},
   "outputs": [],
   "source": [
    "# Function to download images from image-net to neg folder\n",
    "def save_neg(neg_image):\n",
    "    response = requests.get(neg_image)\n",
    "    soup = BeautifulSoup(response.text)\n",
    "    neg_image_files = soup.find(\"p\").getText().split(\"\\r\\n\")\n",
    "    \n",
    "    if not os.path.exists(\"neg\"):\n",
    "        os.makedirs(\"neg\")\n",
    "    \n",
    "    try:\n",
    "        start = sorted([int(i.replace(\".jpg\",\"\")) for i in os.listdir(\"neg/\")])\n",
    "        start = start[::-1][0]\n",
    "    except:\n",
    "        start = 0\n",
    "    \n",
    "    if start != 0:\n",
    "        start = start + 1\n",
    "    \n",
    "    for num, pic in enumerate(neg_image_files, start):\n",
    "        try:    \n",
    "            myfile = requests.get(pic, timeout = 20)\n",
    "            open(\"neg/\"+ str(num) + \".jpg\", 'wb').write(myfile.content)\n",
    "            img = cv2.imread(\"neg/\"+str(num)+\".jpg\",cv2.IMREAD_GRAYSCALE)\n",
    "            resized_image = cv2.resize(img, (256, 256))\n",
    "            cv2.imwrite(\"neg/\"+str(num)+\".jpg\",resized_image)\n",
    "        except:\n",
    "            try:\n",
    "                os.remove(\"neg/\"+str(num)+\".jpg\")\n",
    "            except:\n",
    "                None\n",
    "        "
   ]
  },
  {
   "cell_type": "code",
   "execution_count": 10,
   "metadata": {},
   "outputs": [],
   "source": [
    "neg_image = [\"http://image-net.org/api/text/imagenet.synset.geturls?wnid=n00015388\",\n",
    "             \"http://image-net.org/api/text/imagenet.synset.geturls?wnid=n00017222\",\n",
    "             \"http://image-net.org/api/text/imagenet.synset.geturls?wnid=n00021939\",\n",
    "             \"http://image-net.org/api/text/imagenet.synset.geturls?wnid=n09287968\",\n",
    "             \"http://image-net.org/api/text/imagenet.synset.geturls?wnid=n09366317\"]"
   ]
  },
  {
   "cell_type": "code",
   "execution_count": 11,
   "metadata": {},
   "outputs": [],
   "source": [
    "for i in neg_image:\n",
    "    save_neg(i)"
   ]
  },
  {
   "cell_type": "code",
   "execution_count": 73,
   "metadata": {},
   "outputs": [],
   "source": [
    "# write the path of all images in neg folder to bg.txt file\n",
    "for img in os.listdir(\"neg\"):\n",
    "    line = 'neg/'+img+'\\n'\n",
    "    with open('bg.txt','a') as f:\n",
    "        f.write(line)"
   ]
  }
 ],
 "metadata": {
  "kernelspec": {
   "display_name": "Python 3",
   "language": "python",
   "name": "python3"
  },
  "language_info": {
   "codemirror_mode": {
    "name": "ipython",
    "version": 3
   },
   "file_extension": ".py",
   "mimetype": "text/x-python",
   "name": "python",
   "nbconvert_exporter": "python",
   "pygments_lexer": "ipython3",
   "version": "3.7.3"
  }
 },
 "nbformat": 4,
 "nbformat_minor": 2
}
